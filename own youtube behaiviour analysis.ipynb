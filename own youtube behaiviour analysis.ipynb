{
 "cells": [
  {
   "cell_type": "markdown",
   "id": "9128fc8b",
   "metadata": {},
   "source": [
    "Data Loading"
   ]
  },
  {
   "cell_type": "code",
   "execution_count": 1,
   "id": "44539235",
   "metadata": {},
   "outputs": [],
   "source": [
    "from pyspark.sql.window import Window\n",
    "from pyspark.sql.types import * \n",
    "from pyspark.sql.functions import * \n",
    "from pyspark.sql import *\n",
    "import pyspark"
   ]
  },
  {
   "cell_type": "code",
   "execution_count": 2,
   "id": "758a35ad",
   "metadata": {},
   "outputs": [],
   "source": [
    "spark = SparkSession.builder.appName(\"Test\").getOrCreate()\n",
    "df =spark.read.format(\"csv\").option(\"inferSchema\",True).option(\"header\",True).load(\"full detials.csv\")"
   ]
  },
  {
   "cell_type": "code",
   "execution_count": 3,
   "id": "6da9029d",
   "metadata": {},
   "outputs": [
    {
     "data": {
      "text/plain": [
       "DataFrame[Platform: string, Status: string, watched_date_time: timestamp, Video Link: string, Video Name: string, Channel Name: string, Channel Link: string, Rating: string, Duration: string, Length: string, Thumbnail: string, Likes: string, Views: bigint]"
      ]
     },
     "execution_count": 3,
     "metadata": {},
     "output_type": "execute_result"
    }
   ],
   "source": [
    "df.createOrReplaceTempView(\"df\")\n",
    "spark.sql(\"Select * from df\")"
   ]
  },
  {
   "cell_type": "code",
   "execution_count": 4,
   "id": "9399d758",
   "metadata": {
    "scrolled": true
   },
   "outputs": [
    {
     "name": "stdout",
     "output_type": "stream",
     "text": [
      "+--------+\n",
      "|Duration|\n",
      "+--------+\n",
      "|PT45M48S|\n",
      "| PT3M20S|\n",
      "|   PT21S|\n",
      "|   PT22S|\n",
      "|   PT31S|\n",
      "|PT45M48S|\n",
      "| PT6M58S|\n",
      "|   PT31S|\n",
      "|   PT51S|\n",
      "|   PT39S|\n",
      "+--------+\n",
      "\n"
     ]
    }
   ],
   "source": [
    " df.createOrReplaceTempView(\"df\")\n",
    "spark.sql(\"SELECT Duration FROM df limit 10\").show()"
   ]
  },
  {
   "cell_type": "code",
   "execution_count": 5,
   "id": "a7f84248",
   "metadata": {},
   "outputs": [
    {
     "name": "stdout",
     "output_type": "stream",
     "text": [
      "+--------------------+-------------------+-----------+-----------+--------------------+--------+\n",
      "|          Channel_Id|               Name|Subscribers|Total_views|              Joined|Category|\n",
      "+--------------------+-------------------+-----------+-----------+--------------------+--------+\n",
      "|UC-O3_F-UpwzKvSkv...|           HR_Navin|     121000|   13367759| 2016-05-04 22:27:01|     N/A|\n",
      "|UC0gHrWWtRgkQ3ZS1...|      RK Games Bond|     137000|   16996857|2021-09-19 10:15:...|     N/A|\n",
      "|UC14aFPpH4jF3FfRQ...|    Words of Wisdom|    1080000|  103238584|2020-04-14 11:49:...|     N/A|\n",
      "|UC2J_VKrAzOEJuQvF...|Chennai Super Kings|    3830000|  786669886| 2009-04-17 18:30:30|     N/A|\n",
      "|UC2MHTOXktfTK26aD...|    Windies Cricket|    3950000| 1264468902| 2017-10-20 06:19:37|     N/A|\n",
      "+--------------------+-------------------+-----------+-----------+--------------------+--------+\n",
      "only showing top 5 rows\n",
      "\n"
     ]
    }
   ],
   "source": [
    "df1 = spark.read.csv(\"youtube_subscriptions_details.csv\", header=True, inferSchema=True)\n",
    "df1.show(5)"
   ]
  },
  {
   "cell_type": "markdown",
   "id": "f3f3d77f",
   "metadata": {},
   "source": []
  },
  {
   "cell_type": "markdown",
   "id": "e71de991",
   "metadata": {},
   "source": [
    "Table 1"
   ]
  },
  {
   "cell_type": "markdown",
   "id": "b5904be7",
   "metadata": {},
   "source": [
    "DATA TRANSMISSION"
   ]
  },
  {
   "cell_type": "code",
   "execution_count": 6,
   "id": "c552fd14",
   "metadata": {},
   "outputs": [
    {
     "name": "stdout",
     "output_type": "stream",
     "text": [
      "+--------------------+-------------------+-----------+-----------+--------------------+\n",
      "|          Channel_Id|               Name|Subscribers|Total_views|              Joined|\n",
      "+--------------------+-------------------+-----------+-----------+--------------------+\n",
      "|UC-O3_F-UpwzKvSkv...|           HR_Navin|     121000|   13367759| 2016-05-04 22:27:01|\n",
      "|UC0gHrWWtRgkQ3ZS1...|      RK Games Bond|     137000|   16996857|2021-09-19 10:15:...|\n",
      "|UC14aFPpH4jF3FfRQ...|    Words of Wisdom|    1080000|  103238584|2020-04-14 11:49:...|\n",
      "|UC2J_VKrAzOEJuQvF...|Chennai Super Kings|    3830000|  786669886| 2009-04-17 18:30:30|\n",
      "|UC2MHTOXktfTK26aD...|    Windies Cricket|    3950000| 1264468902| 2017-10-20 06:19:37|\n",
      "+--------------------+-------------------+-----------+-----------+--------------------+\n",
      "only showing top 5 rows\n",
      "\n"
     ]
    }
   ],
   "source": [
    "df1 = df1.drop(\"Category\")\n",
    "df1.show(5)"
   ]
  },
  {
   "cell_type": "code",
   "execution_count": 7,
   "id": "07095e05",
   "metadata": {},
   "outputs": [
    {
     "name": "stdout",
     "output_type": "stream",
     "text": [
      "+--------------------+-------------------+-----------+-----------+--------------------+-----------+-----------+\n",
      "|          Channel_Id|               Name|Subscribers|Total_views|              Joined|joined_date|joined_time|\n",
      "+--------------------+-------------------+-----------+-----------+--------------------+-----------+-----------+\n",
      "|UC-O3_F-UpwzKvSkv...|           HR_Navin|     121000|   13367759| 2016-05-04 22:27:01| 2016-05-04|   22:27:01|\n",
      "|UC0gHrWWtRgkQ3ZS1...|      RK Games Bond|     137000|   16996857|2021-09-19 10:15:...| 2021-09-19|   10:15:52|\n",
      "|UC14aFPpH4jF3FfRQ...|    Words of Wisdom|    1080000|  103238584|2020-04-14 11:49:...| 2020-04-14|   11:49:22|\n",
      "|UC2J_VKrAzOEJuQvF...|Chennai Super Kings|    3830000|  786669886| 2009-04-17 18:30:30| 2009-04-17|   18:30:30|\n",
      "|UC2MHTOXktfTK26aD...|    Windies Cricket|    3950000| 1264468902| 2017-10-20 06:19:37| 2017-10-20|   06:19:37|\n",
      "+--------------------+-------------------+-----------+-----------+--------------------+-----------+-----------+\n",
      "only showing top 5 rows\n",
      "\n"
     ]
    }
   ],
   "source": [
    "df1 = df1.withColumn(\"joined_date\", date_format(col(\"Joined\"), \"yyyy-MM-dd\"))\\\n",
    "        .withColumn(\"joined_time\", date_format(col(\"joined\"),\"HH:mm:ss\"))\n",
    "df1.show(5)"
   ]
  },
  {
   "cell_type": "code",
   "execution_count": 8,
   "id": "2e07094d",
   "metadata": {},
   "outputs": [
    {
     "name": "stdout",
     "output_type": "stream",
     "text": [
      "+--------------------+-------------------+-----------+-----------+-----------+-----------+\n",
      "|          Channel_Id|               Name|Subscribers|Total_views|joined_date|joined_time|\n",
      "+--------------------+-------------------+-----------+-----------+-----------+-----------+\n",
      "|UC-O3_F-UpwzKvSkv...|           HR_Navin|     121000|   13367759| 2016-05-04|   22:27:01|\n",
      "|UC0gHrWWtRgkQ3ZS1...|      RK Games Bond|     137000|   16996857| 2021-09-19|   10:15:52|\n",
      "|UC14aFPpH4jF3FfRQ...|    Words of Wisdom|    1080000|  103238584| 2020-04-14|   11:49:22|\n",
      "|UC2J_VKrAzOEJuQvF...|Chennai Super Kings|    3830000|  786669886| 2009-04-17|   18:30:30|\n",
      "|UC2MHTOXktfTK26aD...|    Windies Cricket|    3950000| 1264468902| 2017-10-20|   06:19:37|\n",
      "+--------------------+-------------------+-----------+-----------+-----------+-----------+\n",
      "only showing top 5 rows\n",
      "\n"
     ]
    }
   ],
   "source": [
    "df1 =df1.drop(\"Joined\")\n",
    "df1.show(5)"
   ]
  },
  {
   "cell_type": "markdown",
   "id": "7ac9f9c4",
   "metadata": {},
   "source": [
    "table 2"
   ]
  },
  {
   "cell_type": "code",
   "execution_count": 9,
   "id": "30991bed",
   "metadata": {},
   "outputs": [
    {
     "name": "stdout",
     "output_type": "stream",
     "text": [
      "+--------+-------+--------------------+--------------------+--------------------+------------------+--------------------+--------+--------------------+-----+-------+\n",
      "|Platform| Status|   watched_date_time|          Video Link|          Video Name|      Channel Name|        Channel Link|Duration|           Thumbnail|Likes|  Views|\n",
      "+--------+-------+--------------------+--------------------+--------------------+------------------+--------------------+--------+--------------------+-----+-------+\n",
      "| YouTube|Watched|2024-08-07 10:47:...|https://www.youtu...|Python Tutorial: ...|     Corey Schafer|https://www.youtu...|PT45M48S|https://i.ytimg.c...|23993|1121319|\n",
      "| YouTube|Watched|2024-08-07 10:46:...|https://www.youtu...|How to download y...|Kjell-Olov Högdahl|https://www.youtu...| PT3M20S|https://i.ytimg.c...|   43|   3232|\n",
      "| YouTube|Watched|2024-08-06 22:56:...|https://www.youtu...|#MotorolaEdge50: ...|    Motorola India|https://www.youtu...|   PT21S|https://i.ytimg.c...|    1| 553708|\n",
      "| YouTube|Watched|2024-08-06 22:51:...|https://www.youtu...|Full Refund word ...|    codebasics_hub|https://www.youtu...|   PT22S|https://i.ytimg.c...|    0|    626|\n",
      "| YouTube|Watched|2024-08-06 22:51:...|https://www.youtu...|Get Started on Go...|      Google Cloud|https://www.youtu...|   PT31S|https://i.ytimg.c...| 5675| 467180|\n",
      "+--------+-------+--------------------+--------------------+--------------------+------------------+--------------------+--------+--------------------+-----+-------+\n",
      "only showing top 5 rows\n",
      "\n"
     ]
    }
   ],
   "source": [
    "df = df.drop(\"Length\",\"Rating\")\n",
    "df.show(5)"
   ]
  },
  {
   "cell_type": "code",
   "execution_count": 10,
   "id": "ce70d19d",
   "metadata": {},
   "outputs": [
    {
     "name": "stdout",
     "output_type": "stream",
     "text": [
      "+--------------------+--------------------+--------------------+------------------+--------------------+--------+-----+-------+\n",
      "|   watched_date_time|          Video Link|          Video Name|      Channel Name|        Channel Link|Duration|Likes|  Views|\n",
      "+--------------------+--------------------+--------------------+------------------+--------------------+--------+-----+-------+\n",
      "|2024-08-07 10:47:...|https://www.youtu...|Python Tutorial: ...|     Corey Schafer|https://www.youtu...|PT45M48S|23993|1121319|\n",
      "|2024-08-07 10:46:...|https://www.youtu...|How to download y...|Kjell-Olov Högdahl|https://www.youtu...| PT3M20S|   43|   3232|\n",
      "|2024-08-06 22:56:...|https://www.youtu...|#MotorolaEdge50: ...|    Motorola India|https://www.youtu...|   PT21S|    1| 553708|\n",
      "|2024-08-06 22:51:...|https://www.youtu...|Full Refund word ...|    codebasics_hub|https://www.youtu...|   PT22S|    0|    626|\n",
      "|2024-08-06 22:51:...|https://www.youtu...|Get Started on Go...|      Google Cloud|https://www.youtu...|   PT31S| 5675| 467180|\n",
      "+--------------------+--------------------+--------------------+------------------+--------------------+--------+-----+-------+\n",
      "only showing top 5 rows\n",
      "\n"
     ]
    }
   ],
   "source": [
    "df =df.drop(\"Thumbnail\",\"Platform\",\"Status\")\n",
    "df.show(5)"
   ]
  },
  {
   "cell_type": "code",
   "execution_count": 11,
   "id": "ea0b1fdc",
   "metadata": {},
   "outputs": [
    {
     "name": "stdout",
     "output_type": "stream",
     "text": [
      "+--------------------+--------------------+--------------------+------------------+--------------------+--------+-----+-------+----------+\n",
      "|   watched_date_time|          Video Link|          Video Name|      Channel Name|        Channel Link|Duration|Likes|  Views|watch_time|\n",
      "+--------------------+--------------------+--------------------+------------------+--------------------+--------+-----+-------+----------+\n",
      "|2024-08-07 10:47:...|https://www.youtu...|Python Tutorial: ...|     Corey Schafer|https://www.youtu...|PT45M48S|23993|1121319|     45:48|\n",
      "|2024-08-07 10:46:...|https://www.youtu...|How to download y...|Kjell-Olov Högdahl|https://www.youtu...| PT3M20S|   43|   3232|      3:20|\n",
      "|2024-08-06 22:56:...|https://www.youtu...|#MotorolaEdge50: ...|    Motorola India|https://www.youtu...|   PT21S|    1| 553708|        21|\n",
      "|2024-08-06 22:51:...|https://www.youtu...|Full Refund word ...|    codebasics_hub|https://www.youtu...|   PT22S|    0|    626|        22|\n",
      "|2024-08-06 22:51:...|https://www.youtu...|Get Started on Go...|      Google Cloud|https://www.youtu...|   PT31S| 5675| 467180|        31|\n",
      "+--------------------+--------------------+--------------------+------------------+--------------------+--------+-----+-------+----------+\n",
      "only showing top 5 rows\n",
      "\n"
     ]
    }
   ],
   "source": [
    "df= df.withColumn(\"watch_time\",regexp_replace(regexp_replace(regexp_replace\\\n",
    "                            (regexp_replace(col(\"Duration\"),\"PT\",\"\"), \"H\",\":\"),\"M\",\":\"),\"S\",\"\"))\n",
    "df.show(5)"
   ]
  },
  {
   "cell_type": "code",
   "execution_count": 12,
   "id": "20e21e79",
   "metadata": {},
   "outputs": [
    {
     "name": "stdout",
     "output_type": "stream",
     "text": [
      "+--------------------+--------------------+--------------------+------------------+--------------------+-----+-------+----------+\n",
      "|   watched_date_time|          Video Link|          Video Name|      Channel Name|        Channel Link|Likes|  Views|watch_time|\n",
      "+--------------------+--------------------+--------------------+------------------+--------------------+-----+-------+----------+\n",
      "|2024-08-07 10:47:...|https://www.youtu...|Python Tutorial: ...|     Corey Schafer|https://www.youtu...|23993|1121319|     45:48|\n",
      "|2024-08-07 10:46:...|https://www.youtu...|How to download y...|Kjell-Olov Högdahl|https://www.youtu...|   43|   3232|      3:20|\n",
      "|2024-08-06 22:56:...|https://www.youtu...|#MotorolaEdge50: ...|    Motorola India|https://www.youtu...|    1| 553708|        21|\n",
      "|2024-08-06 22:51:...|https://www.youtu...|Full Refund word ...|    codebasics_hub|https://www.youtu...|    0|    626|        22|\n",
      "|2024-08-06 22:51:...|https://www.youtu...|Get Started on Go...|      Google Cloud|https://www.youtu...| 5675| 467180|        31|\n",
      "+--------------------+--------------------+--------------------+------------------+--------------------+-----+-------+----------+\n",
      "only showing top 5 rows\n",
      "\n"
     ]
    }
   ],
   "source": [
    "df =df.drop(\"Duration\",\"wateched_time\")\n",
    "df.show(5)"
   ]
  },
  {
   "cell_type": "code",
   "execution_count": 13,
   "id": "61e733cd",
   "metadata": {},
   "outputs": [
    {
     "name": "stdout",
     "output_type": "stream",
     "text": [
      "+--------------------+--------------------+--------------------+------------------+--------------------+-----+-------+----------+\n",
      "|   watched_date_time|          Video Link|          Video Name|      Channel Name|        Channel Link|Likes|  Views|watch_time|\n",
      "+--------------------+--------------------+--------------------+------------------+--------------------+-----+-------+----------+\n",
      "|2024-08-07 10:47:...|https://www.youtu...|Python Tutorial: ...|     Corey Schafer|https://www.youtu...|23993|1121319|  [45, 48]|\n",
      "|2024-08-07 10:46:...|https://www.youtu...|How to download y...|Kjell-Olov Högdahl|https://www.youtu...|   43|   3232|   [3, 20]|\n",
      "|2024-08-06 22:56:...|https://www.youtu...|#MotorolaEdge50: ...|    Motorola India|https://www.youtu...|    1| 553708|      [21]|\n",
      "|2024-08-06 22:51:...|https://www.youtu...|Full Refund word ...|    codebasics_hub|https://www.youtu...|    0|    626|      [22]|\n",
      "|2024-08-06 22:51:...|https://www.youtu...|Get Started on Go...|      Google Cloud|https://www.youtu...| 5675| 467180|      [31]|\n",
      "+--------------------+--------------------+--------------------+------------------+--------------------+-----+-------+----------+\n",
      "only showing top 5 rows\n",
      "\n"
     ]
    }
   ],
   "source": [
    "df = df.withColumn(\"watch_time\",split(col(\"watch_time\"),\":\"))\n",
    "df.show(5)"
   ]
  },
  {
   "cell_type": "code",
   "execution_count": 14,
   "id": "a18a1124",
   "metadata": {},
   "outputs": [
    {
     "name": "stdout",
     "output_type": "stream",
     "text": [
      "+--------------------+--------------------+--------------------+------------------+--------------------+-----+-------+----------+----------+\n",
      "|   watched_date_time|          Video Link|          Video Name|      Channel Name|        Channel Link|Likes|  Views|watch_time|video_type|\n",
      "+--------------------+--------------------+--------------------+------------------+--------------------+-----+-------+----------+----------+\n",
      "|2024-08-07 10:47:...|https://www.youtu...|Python Tutorial: ...|     Corey Schafer|https://www.youtu...|23993|1121319|  [45, 48]|        45|\n",
      "|2024-08-07 10:46:...|https://www.youtu...|How to download y...|Kjell-Olov Högdahl|https://www.youtu...|   43|   3232|   [3, 20]|         3|\n",
      "|2024-08-06 22:56:...|https://www.youtu...|#MotorolaEdge50: ...|    Motorola India|https://www.youtu...|    1| 553708|      [21]|         1|\n",
      "|2024-08-06 22:51:...|https://www.youtu...|Full Refund word ...|    codebasics_hub|https://www.youtu...|    0|    626|      [22]|         1|\n",
      "|2024-08-06 22:51:...|https://www.youtu...|Get Started on Go...|      Google Cloud|https://www.youtu...| 5675| 467180|      [31]|         1|\n",
      "+--------------------+--------------------+--------------------+------------------+--------------------+-----+-------+----------+----------+\n",
      "only showing top 5 rows\n",
      "\n"
     ]
    }
   ],
   "source": [
    "df = df.withColumn(\"video_type\",when(size(col(\"watch_time\"))==1,1)\\\n",
    "              .when(size(col(\"watch_time\"))==2,col(\"watch_time\")[0])\\\n",
    "              .otherwise(col(\"watch_time\")[0]*60 + col(\"watch_time\")[1]))\n",
    "df.show(5)\n"
   ]
  },
  {
   "cell_type": "code",
   "execution_count": 15,
   "id": "db308f9d",
   "metadata": {},
   "outputs": [
    {
     "name": "stdout",
     "output_type": "stream",
     "text": [
      "+--------------------+--------------------+--------------------+------------------+--------------------+-----+-------+----------+------------+\n",
      "|   watched_date_time|          Video Link|          Video Name|      Channel Name|        Channel Link|Likes|  Views|watch_time|watched_time|\n",
      "+--------------------+--------------------+--------------------+------------------+--------------------+-----+-------+----------+------------+\n",
      "|2024-08-07 10:47:...|https://www.youtu...|Python Tutorial: ...|     Corey Schafer|https://www.youtu...|23993|1121319|  [45, 48]|          45|\n",
      "|2024-08-07 10:46:...|https://www.youtu...|How to download y...|Kjell-Olov Högdahl|https://www.youtu...|   43|   3232|   [3, 20]|           3|\n",
      "|2024-08-06 22:56:...|https://www.youtu...|#MotorolaEdge50: ...|    Motorola India|https://www.youtu...|    1| 553708|      [21]|           1|\n",
      "|2024-08-06 22:51:...|https://www.youtu...|Full Refund word ...|    codebasics_hub|https://www.youtu...|    0|    626|      [22]|           1|\n",
      "|2024-08-06 22:51:...|https://www.youtu...|Get Started on Go...|      Google Cloud|https://www.youtu...| 5675| 467180|      [31]|           1|\n",
      "+--------------------+--------------------+--------------------+------------------+--------------------+-----+-------+----------+------------+\n",
      "only showing top 5 rows\n",
      "\n"
     ]
    }
   ],
   "source": [
    "df= df.withColumnRenamed(\"video_type\",\"watched_time\")\n",
    "df.show(5)"
   ]
  },
  {
   "cell_type": "code",
   "execution_count": 16,
   "id": "63f37f08",
   "metadata": {
    "scrolled": true
   },
   "outputs": [
    {
     "name": "stdout",
     "output_type": "stream",
     "text": [
      "+--------------------+--------------------+------------------+--------------------+-----+-------+------------+\n",
      "|   watched_date_time|          Video Name|      Channel Name|        Channel Link|Likes|  Views|watched_time|\n",
      "+--------------------+--------------------+------------------+--------------------+-----+-------+------------+\n",
      "|2024-08-07 10:47:...|Python Tutorial: ...|     Corey Schafer|https://www.youtu...|23993|1121319|          45|\n",
      "|2024-08-07 10:46:...|How to download y...|Kjell-Olov Högdahl|https://www.youtu...|   43|   3232|           3|\n",
      "|2024-08-06 22:56:...|#MotorolaEdge50: ...|    Motorola India|https://www.youtu...|    1| 553708|           1|\n",
      "|2024-08-06 22:51:...|Full Refund word ...|    codebasics_hub|https://www.youtu...|    0|    626|           1|\n",
      "|2024-08-06 22:51:...|Get Started on Go...|      Google Cloud|https://www.youtu...| 5675| 467180|           1|\n",
      "+--------------------+--------------------+------------------+--------------------+-----+-------+------------+\n",
      "only showing top 5 rows\n",
      "\n"
     ]
    }
   ],
   "source": [
    "df =df.drop(\"Video Link\",\"watch_time\")\n",
    "df.show(5)"
   ]
  },
  {
   "cell_type": "code",
   "execution_count": 17,
   "id": "2f60ada0",
   "metadata": {},
   "outputs": [
    {
     "name": "stdout",
     "output_type": "stream",
     "text": [
      "+--------------------+--------------------+------------------+--------------------+-----+-------+------------+----------+\n",
      "|   watched_date_time|          Video Name|      Channel Name|        Channel Link|Likes|  Views|watched_time|Video_Type|\n",
      "+--------------------+--------------------+------------------+--------------------+-----+-------+------------+----------+\n",
      "|2024-08-07 10:47:...|Python Tutorial: ...|     Corey Schafer|https://www.youtu...|23993|1121319|          45|      Long|\n",
      "|2024-08-07 10:46:...|How to download y...|Kjell-Olov Högdahl|https://www.youtu...|   43|   3232|           3|      Long|\n",
      "|2024-08-06 22:56:...|#MotorolaEdge50: ...|    Motorola India|https://www.youtu...|    1| 553708|           1|     Short|\n",
      "|2024-08-06 22:51:...|Full Refund word ...|    codebasics_hub|https://www.youtu...|    0|    626|           1|     Short|\n",
      "|2024-08-06 22:51:...|Get Started on Go...|      Google Cloud|https://www.youtu...| 5675| 467180|           1|     Short|\n",
      "+--------------------+--------------------+------------------+--------------------+-----+-------+------------+----------+\n",
      "only showing top 5 rows\n",
      "\n"
     ]
    }
   ],
   "source": [
    "df =df.withColumn(\"Video_Type\",when(col(\"watched_time\")==1,\"Short\").otherwise(\"Long\"))\n",
    "df.show(5)"
   ]
  },
  {
   "cell_type": "code",
   "execution_count": 18,
   "id": "45c68fb8",
   "metadata": {},
   "outputs": [
    {
     "name": "stdout",
     "output_type": "stream",
     "text": [
      "+--------------------+--------------------+------------------+--------------------+-----+-------+------------+----------+----------+----------+\n",
      "|   watched_date_time|          Video Name|      Channel Name|        Channel Link|Likes|  Views|watched_time|Video_Type|watch_date|watch_time|\n",
      "+--------------------+--------------------+------------------+--------------------+-----+-------+------------+----------+----------+----------+\n",
      "|2024-08-07 10:47:...|Python Tutorial: ...|     Corey Schafer|https://www.youtu...|23993|1121319|          45|      Long|2024-08-07|  10:08:12|\n",
      "|2024-08-07 10:46:...|How to download y...|Kjell-Olov Högdahl|https://www.youtu...|   43|   3232|           3|      Long|2024-08-07|  10:08:27|\n",
      "|2024-08-06 22:56:...|#MotorolaEdge50: ...|    Motorola India|https://www.youtu...|    1| 553708|           1|     Short|2024-08-06|  22:08:66|\n",
      "|2024-08-06 22:51:...|Full Refund word ...|    codebasics_hub|https://www.youtu...|    0|    626|           1|     Short|2024-08-06|  22:08:31|\n",
      "|2024-08-06 22:51:...|Get Started on Go...|      Google Cloud|https://www.youtu...| 5675| 467180|           1|     Short|2024-08-06|  22:08:12|\n",
      "+--------------------+--------------------+------------------+--------------------+-----+-------+------------+----------+----------+----------+\n",
      "only showing top 5 rows\n",
      "\n"
     ]
    }
   ],
   "source": [
    "df =df.withColumn(\"watch_date\",date_format(col(\"watched_date_time\"),\"yyyy-MM-dd\"))\n",
    "df =df.withColumn(\"watch_time\",date_format(col(\"watched_date_time\"),\"HH:MM:SS\"))\n",
    "df.show(5)"
   ]
  },
  {
   "cell_type": "code",
   "execution_count": 19,
   "id": "ff2ac030",
   "metadata": {},
   "outputs": [
    {
     "name": "stdout",
     "output_type": "stream",
     "text": [
      "+--------------------+------------------+--------------------+-----+-------+------------+----------+----------+----------+\n",
      "|          Video Name|      Channel Name|        Channel Link|Likes|  Views|watched_time|Video_Type|watch_date|watch_time|\n",
      "+--------------------+------------------+--------------------+-----+-------+------------+----------+----------+----------+\n",
      "|Python Tutorial: ...|     Corey Schafer|https://www.youtu...|23993|1121319|          45|      Long|2024-08-07|  10:08:12|\n",
      "|How to download y...|Kjell-Olov Högdahl|https://www.youtu...|   43|   3232|           3|      Long|2024-08-07|  10:08:27|\n",
      "|#MotorolaEdge50: ...|    Motorola India|https://www.youtu...|    1| 553708|           1|     Short|2024-08-06|  22:08:66|\n",
      "|Full Refund word ...|    codebasics_hub|https://www.youtu...|    0|    626|           1|     Short|2024-08-06|  22:08:31|\n",
      "|Get Started on Go...|      Google Cloud|https://www.youtu...| 5675| 467180|           1|     Short|2024-08-06|  22:08:12|\n",
      "+--------------------+------------------+--------------------+-----+-------+------------+----------+----------+----------+\n",
      "only showing top 5 rows\n",
      "\n"
     ]
    }
   ],
   "source": [
    "df =df.drop(\"watched_date_time\")\n",
    "df.show(5)"
   ]
  },
  {
   "cell_type": "code",
   "execution_count": 20,
   "id": "6df90b38",
   "metadata": {},
   "outputs": [
    {
     "name": "stdout",
     "output_type": "stream",
     "text": [
      "+--------------------------------------------------------+\n",
      "|Channel Link                                            |\n",
      "+--------------------------------------------------------+\n",
      "|https://www.youtube.com/channel/UCCezIgC97PvUuR4_gbFUs5g|\n",
      "|https://www.youtube.com/channel/UCpuIcds3-wG3eKqygdDvELQ|\n",
      "|https://www.youtube.com/channel/UCo2M-E3Xd9oIQoznNfCDGcA|\n",
      "|https://www.youtube.com/channel/UCc5Mfxuhmvr44QcSbo3_SUA|\n",
      "|https://www.youtube.com/channel/UCTMRxtyHoE3LPcrl-kT4AQQ|\n",
      "+--------------------------------------------------------+\n",
      "only showing top 5 rows\n",
      "\n"
     ]
    }
   ],
   "source": [
    "df.select(\"Channel Link\").show(5, truncate = False)"
   ]
  },
  {
   "cell_type": "code",
   "execution_count": 21,
   "id": "28ec6558",
   "metadata": {},
   "outputs": [
    {
     "name": "stdout",
     "output_type": "stream",
     "text": [
      "+--------------------+------------------+--------------------+-----+-------+------------+----------+----------+----------+\n",
      "|          Video Name|      Channel Name|        Channel Link|Likes|  Views|watched_time|Video_Type|watch_date|watch_time|\n",
      "+--------------------+------------------+--------------------+-----+-------+------------+----------+----------+----------+\n",
      "|Python Tutorial: ...|     Corey Schafer|UCCezIgC97PvUuR4_...|23993|1121319|          45|      Long|2024-08-07|  10:08:12|\n",
      "|How to download y...|Kjell-Olov Högdahl|UCpuIcds3-wG3eKqy...|   43|   3232|           3|      Long|2024-08-07|  10:08:27|\n",
      "|#MotorolaEdge50: ...|    Motorola India|UCo2M-E3Xd9oIQozn...|    1| 553708|           1|     Short|2024-08-06|  22:08:66|\n",
      "|Full Refund word ...|    codebasics_hub|UCc5Mfxuhmvr44QcS...|    0|    626|           1|     Short|2024-08-06|  22:08:31|\n",
      "|Get Started on Go...|      Google Cloud|UCTMRxtyHoE3LPcrl...| 5675| 467180|           1|     Short|2024-08-06|  22:08:12|\n",
      "+--------------------+------------------+--------------------+-----+-------+------------+----------+----------+----------+\n",
      "only showing top 5 rows\n",
      "\n"
     ]
    }
   ],
   "source": [
    "df = df.withColumn(\"Channel Link\",regexp_replace(col(\"Channel Link\"),\"https://www.youtube.com/channel/\",\"\"))\n",
    "df.show(5)"
   ]
  },
  {
   "cell_type": "markdown",
   "id": "82ace150",
   "metadata": {},
   "source": [
    "join table 1 and table 2"
   ]
  },
  {
   "cell_type": "code",
   "execution_count": 22,
   "id": "8dab28bc",
   "metadata": {},
   "outputs": [
    {
     "name": "stdout",
     "output_type": "stream",
     "text": [
      "+--------------------+------------------+--------------------+-----+-------+------------+----------+----------+----------+----------+----+-----------+-----------+-----------+-----------+\n",
      "|          Video Name|      Channel Name|        Channel Link|Likes|  Views|watched_time|Video_Type|watch_date|watch_time|Channel_Id|Name|Subscribers|Total_views|joined_date|joined_time|\n",
      "+--------------------+------------------+--------------------+-----+-------+------------+----------+----------+----------+----------+----+-----------+-----------+-----------+-----------+\n",
      "|Python Tutorial: ...|     Corey Schafer|UCCezIgC97PvUuR4_...|23993|1121319|          45|      Long|2024-08-07|  10:08:12|      NULL|NULL|       NULL|       NULL|       NULL|       NULL|\n",
      "|How to download y...|Kjell-Olov Högdahl|UCpuIcds3-wG3eKqy...|   43|   3232|           3|      Long|2024-08-07|  10:08:27|      NULL|NULL|       NULL|       NULL|       NULL|       NULL|\n",
      "|#MotorolaEdge50: ...|    Motorola India|UCo2M-E3Xd9oIQozn...|    1| 553708|           1|     Short|2024-08-06|  22:08:66|      NULL|NULL|       NULL|       NULL|       NULL|       NULL|\n",
      "|Full Refund word ...|    codebasics_hub|UCc5Mfxuhmvr44QcS...|    0|    626|           1|     Short|2024-08-06|  22:08:31|      NULL|NULL|       NULL|       NULL|       NULL|       NULL|\n",
      "|Get Started on Go...|      Google Cloud|UCTMRxtyHoE3LPcrl...| 5675| 467180|           1|     Short|2024-08-06|  22:08:12|      NULL|NULL|       NULL|       NULL|       NULL|       NULL|\n",
      "+--------------------+------------------+--------------------+-----+-------+------------+----------+----------+----------+----------+----+-----------+-----------+-----------+-----------+\n",
      "only showing top 5 rows\n",
      "\n"
     ]
    }
   ],
   "source": [
    "DF =df.join(df1,df[\"Channel Link\"]==df1[\"Channel_Id\"],\"left\")\n",
    "DF.show(5)"
   ]
  },
  {
   "cell_type": "code",
   "execution_count": 23,
   "id": "5d8c34dd",
   "metadata": {},
   "outputs": [
    {
     "name": "stdout",
     "output_type": "stream",
     "text": [
      "+--------------------+-------------+--------------------+-----+-------+------------+----------+----------+----------+--------------------+-------------+-----------+-----------+-----------+-----------+\n",
      "|          Video Name| Channel Name|        Channel Link|Likes|  Views|watched_time|Video_Type|watch_date|watch_time|          Channel_Id|         Name|Subscribers|Total_views|joined_date|joined_time|\n",
      "+--------------------+-------------+--------------------+-----+-------+------------+----------+----------+----------+--------------------+-------------+-----------+-----------+-----------+-----------+\n",
      "|2 Hour Masterclas...|      Chandoo|UC8uU_wruBMHeeRma...| 1396|  36048|       114.0|      Long|2024-08-06|  17:08:92|UC8uU_wruBMHeeRma...|      Chandoo|     636000|   49715231| 2009-05-02|   12:14:42|\n",
      "|How to set up and...|      Chandoo|UC8uU_wruBMHeeRma...|  670|  19549|          12|      Long|2024-08-06|  16:08:54|UC8uU_wruBMHeeRma...|      Chandoo|     636000|   49715231| 2009-05-02|   12:14:42|\n",
      "|Day in the Life o...| Sandeep Rani|UCmCEfzMwWZmASknU...| 1526|  55686|           5|      Long|2024-08-06|  12:08:24|UCmCEfzMwWZmASknU...| Sandeep Rani|       8650|     294558| 2023-04-17|   02:19:51|\n",
      "|ROADMAP to becomi...| Sandeep Rani|UCmCEfzMwWZmASknU...| 4792|  91578|           7|      Long|2024-08-06|  11:08:32|UCmCEfzMwWZmASknU...| Sandeep Rani|       8650|     294558| 2023-04-17|   02:19:51|\n",
      "|Friendship Day Pa...|Parithabangal|UCueYcgdqos0_PzNO...|83521|1380159|          16|      Long|2024-08-05|  20:08:07|UCueYcgdqos0_PzNO...|Parithabangal|    5600000| 1464435817| 2018-02-08|   23:14:41|\n",
      "+--------------------+-------------+--------------------+-----+-------+------------+----------+----------+----------+--------------------+-------------+-----------+-----------+-----------+-----------+\n",
      "only showing top 5 rows\n",
      "\n"
     ]
    }
   ],
   "source": [
    "DF1 =df.join(df1,df[\"Channel Link\"]==df1[\"Channel_Id\"],\"inner\")\n",
    "DF1.show(5)"
   ]
  },
  {
   "cell_type": "code",
   "execution_count": 24,
   "id": "97002817",
   "metadata": {},
   "outputs": [
    {
     "name": "stdout",
     "output_type": "stream",
     "text": [
      "+--------------------+------------------+--------------------+-----+-------+------------+----------+----------+----------+----------+----+-----------+-----------+-----------+-----------+--------------+\n",
      "|          Video Name|      Channel Name|        Channel Link|Likes|  Views|watched_time|Video_Type|watch_date|watch_time|Channel_Id|Name|Subscribers|Total_views|joined_date|joined_time|        Status|\n",
      "+--------------------+------------------+--------------------+-----+-------+------------+----------+----------+----------+----------+----+-----------+-----------+-----------+-----------+--------------+\n",
      "|Python Tutorial: ...|     Corey Schafer|UCCezIgC97PvUuR4_...|23993|1121319|          45|      Long|2024-08-07|  10:08:12|      NULL|NULL|       NULL|       NULL|       NULL|       NULL|Not Subscribed|\n",
      "|How to download y...|Kjell-Olov Högdahl|UCpuIcds3-wG3eKqy...|   43|   3232|           3|      Long|2024-08-07|  10:08:27|      NULL|NULL|       NULL|       NULL|       NULL|       NULL|Not Subscribed|\n",
      "|#MotorolaEdge50: ...|    Motorola India|UCo2M-E3Xd9oIQozn...|    1| 553708|           1|     Short|2024-08-06|  22:08:66|      NULL|NULL|       NULL|       NULL|       NULL|       NULL|Not Subscribed|\n",
      "|Full Refund word ...|    codebasics_hub|UCc5Mfxuhmvr44QcS...|    0|    626|           1|     Short|2024-08-06|  22:08:31|      NULL|NULL|       NULL|       NULL|       NULL|       NULL|Not Subscribed|\n",
      "|Get Started on Go...|      Google Cloud|UCTMRxtyHoE3LPcrl...| 5675| 467180|           1|     Short|2024-08-06|  22:08:12|      NULL|NULL|       NULL|       NULL|       NULL|       NULL|Not Subscribed|\n",
      "+--------------------+------------------+--------------------+-----+-------+------------+----------+----------+----------+----------+----+-----------+-----------+-----------+-----------+--------------+\n",
      "only showing top 5 rows\n",
      "\n"
     ]
    }
   ],
   "source": [
    "DF=DF.withColumn(\"Status\",when(col(\"Subscribers\").isNull(),\"Not Subscribed\").otherwise(\"Subscribed\"))\n",
    "DF.show(5)"
   ]
  },
  {
   "cell_type": "code",
   "execution_count": 25,
   "id": "d500ff13",
   "metadata": {},
   "outputs": [],
   "source": [
    "#pandas_df.to_csv(r\"D:\\java\\output.csv\", index=False)"
   ]
  },
  {
   "cell_type": "code",
   "execution_count": 26,
   "id": "ea84a305",
   "metadata": {},
   "outputs": [],
   "source": [
    "#pandas_df = DF1.toPandas()\n",
    "#pandas_df.to_csv('combine.csv', index=False\"\"\""
   ]
  },
  {
   "cell_type": "code",
   "execution_count": 27,
   "id": "1134ec33",
   "metadata": {},
   "outputs": [],
   "source": [
    "#pandas_df.to_csv(r\"D:\\java\\combine.csv\", index=False)\n"
   ]
  },
  {
   "cell_type": "markdown",
   "id": "73313028",
   "metadata": {},
   "source": [
    "Analysis Part"
   ]
  },
  {
   "cell_type": "markdown",
   "id": "f9dc6533",
   "metadata": {},
   "source": [
    "MOST WATCHED CHANNELS"
   ]
  },
  {
   "cell_type": "code",
   "execution_count": 28,
   "id": "852f1626",
   "metadata": {},
   "outputs": [
    {
     "name": "stdout",
     "output_type": "stream",
     "text": [
      "+----------------+-----------+\n",
      "|    Channel Name|Watch Count|\n",
      "+----------------+-----------+\n",
      "|freeCodeCamp.org|     4237.0|\n",
      "|     Simplilearn|     1127.0|\n",
      "|    Polimer News|     1048.0|\n",
      "|      codebasics|      979.0|\n",
      "|       My Lesson|      918.0|\n",
      "|         Chandoo|      833.0|\n",
      "| Vj Siddhu Vlogs|      785.0|\n",
      "|      BARN Media|      711.0|\n",
      "|     Madan Gowri|      593.0|\n",
      "|   Corey Schafer|      562.0|\n",
      "+----------------+-----------+\n",
      "only showing top 10 rows\n",
      "\n"
     ]
    }
   ],
   "source": [
    "Most_watch = DF.groupBy(\"Channel Name\").agg(sum(\"watched_time\").alias(\"Watch Count\"))\n",
    "top_channel =Most_watch.orderBy(desc(\"Watch Count\"))\n",
    "top_channel.show(10)"
   ]
  },
  {
   "cell_type": "markdown",
   "id": "771cb703",
   "metadata": {},
   "source": [
    "MOST WATCHED MONTH\n"
   ]
  },
  {
   "cell_type": "code",
   "execution_count": 29,
   "id": "cd5ae693",
   "metadata": {},
   "outputs": [
    {
     "name": "stdout",
     "output_type": "stream",
     "text": [
      "+--------------------+------------------+--------------------+-----+-------+------------+----------+----------+----------+----------+----+-----------+-----------+-----------+-----------+--------------+-------+\n",
      "|          Video Name|      Channel Name|        Channel Link|Likes|  Views|watched_time|Video_Type|watch_date|watch_time|Channel_Id|Name|Subscribers|Total_views|joined_date|joined_time|        Status|  Month|\n",
      "+--------------------+------------------+--------------------+-----+-------+------------+----------+----------+----------+----------+----+-----------+-----------+-----------+-----------+--------------+-------+\n",
      "|Python Tutorial: ...|     Corey Schafer|UCCezIgC97PvUuR4_...|23993|1121319|          45|      Long|2024-08-07|  10:08:12|      NULL|NULL|       NULL|       NULL|       NULL|       NULL|Not Subscribed|2024-08|\n",
      "|How to download y...|Kjell-Olov Högdahl|UCpuIcds3-wG3eKqy...|   43|   3232|           3|      Long|2024-08-07|  10:08:27|      NULL|NULL|       NULL|       NULL|       NULL|       NULL|Not Subscribed|2024-08|\n",
      "|#MotorolaEdge50: ...|    Motorola India|UCo2M-E3Xd9oIQozn...|    1| 553708|           1|     Short|2024-08-06|  22:08:66|      NULL|NULL|       NULL|       NULL|       NULL|       NULL|Not Subscribed|2024-08|\n",
      "|Full Refund word ...|    codebasics_hub|UCc5Mfxuhmvr44QcS...|    0|    626|           1|     Short|2024-08-06|  22:08:31|      NULL|NULL|       NULL|       NULL|       NULL|       NULL|Not Subscribed|2024-08|\n",
      "|Get Started on Go...|      Google Cloud|UCTMRxtyHoE3LPcrl...| 5675| 467180|           1|     Short|2024-08-06|  22:08:12|      NULL|NULL|       NULL|       NULL|       NULL|       NULL|Not Subscribed|2024-08|\n",
      "+--------------------+------------------+--------------------+-----+-------+------------+----------+----------+----------+----------+----+-----------+-----------+-----------+-----------+--------------+-------+\n",
      "only showing top 5 rows\n",
      "\n"
     ]
    }
   ],
   "source": [
    "month=DF.withColumn(\"Month\",date_format(col(\"watch_date\"),\"yyyy-MM\"))\n",
    "month.show(5)"
   ]
  },
  {
   "cell_type": "code",
   "execution_count": 30,
   "id": "e2b0c8be",
   "metadata": {},
   "outputs": [
    {
     "name": "stdout",
     "output_type": "stream",
     "text": [
      "+------------------+------------+----------+-------+--------------+\n",
      "|      Channel Name|watched_time|Video_Type|  Month|        Status|\n",
      "+------------------+------------+----------+-------+--------------+\n",
      "|     Corey Schafer|          45|      Long|2024-08|Not Subscribed|\n",
      "|Kjell-Olov Högdahl|           3|      Long|2024-08|Not Subscribed|\n",
      "|    Motorola India|           1|     Short|2024-08|Not Subscribed|\n",
      "|    codebasics_hub|           1|     Short|2024-08|Not Subscribed|\n",
      "|      Google Cloud|           1|     Short|2024-08|Not Subscribed|\n",
      "|     Corey Schafer|          45|      Long|2024-08|Not Subscribed|\n",
      "|  Alex The Analyst|           6|      Long|2024-08|Not Subscribed|\n",
      "|             Udemy|           1|     Short|2024-08|Not Subscribed|\n",
      "|      THENI Sadham|           1|     Short|2024-08|Not Subscribed|\n",
      "|         Zig Zager|           1|     Short|2024-08|Not Subscribed|\n",
      "+------------------+------------+----------+-------+--------------+\n",
      "only showing top 10 rows\n",
      "\n"
     ]
    }
   ],
   "source": [
    "month =month.select(\"Channel Name\",\"watched_time\",\"Video_Type\",\"Month\",\"Status\")\n",
    "month.show(10)\n"
   ]
  },
  {
   "cell_type": "code",
   "execution_count": 31,
   "id": "ebf39fee",
   "metadata": {},
   "outputs": [
    {
     "name": "stdout",
     "output_type": "stream",
     "text": [
      "+--------------------+------------------+--------------------+-----+-------+------------+----------+----------+----------+----------+----+-----------+-----------+-----------+-----------+--------------+-----------+\n",
      "|          Video Name|      Channel Name|        Channel Link|Likes|  Views|watched_time|Video_Type|watch_date|watch_time|Channel_Id|Name|Subscribers|Total_views|joined_date|joined_time|        Status|Day_of_Week|\n",
      "+--------------------+------------------+--------------------+-----+-------+------------+----------+----------+----------+----------+----+-----------+-----------+-----------+-----------+--------------+-----------+\n",
      "|Python Tutorial: ...|     Corey Schafer|UCCezIgC97PvUuR4_...|23993|1121319|          45|      Long|2024-08-07|  10:08:12|      NULL|NULL|       NULL|       NULL|       NULL|       NULL|Not Subscribed|        Wed|\n",
      "|How to download y...|Kjell-Olov Högdahl|UCpuIcds3-wG3eKqy...|   43|   3232|           3|      Long|2024-08-07|  10:08:27|      NULL|NULL|       NULL|       NULL|       NULL|       NULL|Not Subscribed|        Wed|\n",
      "|#MotorolaEdge50: ...|    Motorola India|UCo2M-E3Xd9oIQozn...|    1| 553708|           1|     Short|2024-08-06|  22:08:66|      NULL|NULL|       NULL|       NULL|       NULL|       NULL|Not Subscribed|        Tue|\n",
      "|Full Refund word ...|    codebasics_hub|UCc5Mfxuhmvr44QcS...|    0|    626|           1|     Short|2024-08-06|  22:08:31|      NULL|NULL|       NULL|       NULL|       NULL|       NULL|Not Subscribed|        Tue|\n",
      "|Get Started on Go...|      Google Cloud|UCTMRxtyHoE3LPcrl...| 5675| 467180|           1|     Short|2024-08-06|  22:08:12|      NULL|NULL|       NULL|       NULL|       NULL|       NULL|Not Subscribed|        Tue|\n",
      "+--------------------+------------------+--------------------+-----+-------+------------+----------+----------+----------+----------+----+-----------+-----------+-----------+-----------+--------------+-----------+\n",
      "only showing top 5 rows\n",
      "\n"
     ]
    }
   ],
   "source": [
    "#Most watched days\n",
    "days = DF.withColumn(\"Day_of_Week\", date_format(col(\"watch_date\"), \"E\"))\n",
    "days.show(5)"
   ]
  },
  {
   "cell_type": "code",
   "execution_count": 32,
   "id": "cf775c38",
   "metadata": {},
   "outputs": [
    {
     "name": "stdout",
     "output_type": "stream",
     "text": [
      "+-------+-----------------+\n",
      "|  Month|sum(watched_time)|\n",
      "+-------+-----------------+\n",
      "|2024-08|           2995.0|\n",
      "|2024-06|           5865.0|\n",
      "|2024-05|           4078.0|\n",
      "|2024-07|          14720.0|\n",
      "+-------+-----------------+\n",
      "\n"
     ]
    }
   ],
   "source": [
    "month = month.groupBy(col(\"Month\")).agg(sum(\"watched_time\"))\n",
    "month.show()"
   ]
  },
  {
   "cell_type": "code",
   "execution_count": 65,
   "id": "bd68625e",
   "metadata": {},
   "outputs": [
    {
     "name": "stdout",
     "output_type": "stream",
     "text": [
      "+-----------+-----------------+\n",
      "|Day_of_Week|sum(watched_time)|\n",
      "+-----------+-----------------+\n",
      "|        Sun|           4866.0|\n",
      "|        Mon|           4617.0|\n",
      "|        Thu|           3362.0|\n",
      "|        Sat|           2163.0|\n",
      "|        Wed|           4285.0|\n",
      "|        Tue|           5927.0|\n",
      "|        Fri|           2438.0|\n",
      "+-----------+-----------------+\n",
      "\n"
     ]
    }
   ],
   "source": [
    "DAYS =days.groupBy(\"Day_of_Week\").agg(sum(\"watched_time\"))\n",
    "DAYS.show()"
   ]
  },
  {
   "cell_type": "code",
   "execution_count": 34,
   "id": "e94e331e",
   "metadata": {},
   "outputs": [
    {
     "name": "stdout",
     "output_type": "stream",
     "text": [
      "+--------------------+------------------+--------------------+-----+-------+------------+----------+----------+----------+----------+----+-----------+-----------+-----------+-----------+--------------+\n",
      "|          Video Name|      Channel Name|        Channel Link|Likes|  Views|watched_time|Video_Type|watch_date|watch_time|Channel_Id|Name|Subscribers|Total_views|joined_date|joined_time|        Status|\n",
      "+--------------------+------------------+--------------------+-----+-------+------------+----------+----------+----------+----------+----+-----------+-----------+-----------+-----------+--------------+\n",
      "|Python Tutorial: ...|     Corey Schafer|UCCezIgC97PvUuR4_...|23993|1121319|          45|      Long|2024-08-07|  10:08:12|      NULL|NULL|       NULL|       NULL|       NULL|       NULL|Not Subscribed|\n",
      "|How to download y...|Kjell-Olov Högdahl|UCpuIcds3-wG3eKqy...|   43|   3232|           3|      Long|2024-08-07|  10:08:27|      NULL|NULL|       NULL|       NULL|       NULL|       NULL|Not Subscribed|\n",
      "|#MotorolaEdge50: ...|    Motorola India|UCo2M-E3Xd9oIQozn...|    1| 553708|           1|     Short|2024-08-06|  22:08:66|      NULL|NULL|       NULL|       NULL|       NULL|       NULL|Not Subscribed|\n",
      "|Full Refund word ...|    codebasics_hub|UCc5Mfxuhmvr44QcS...|    0|    626|           1|     Short|2024-08-06|  22:08:31|      NULL|NULL|       NULL|       NULL|       NULL|       NULL|Not Subscribed|\n",
      "|Get Started on Go...|      Google Cloud|UCTMRxtyHoE3LPcrl...| 5675| 467180|           1|     Short|2024-08-06|  22:08:12|      NULL|NULL|       NULL|       NULL|       NULL|       NULL|Not Subscribed|\n",
      "+--------------------+------------------+--------------------+-----+-------+------------+----------+----------+----------+----------+----+-----------+-----------+-----------+-----------+--------------+\n",
      "only showing top 5 rows\n",
      "\n"
     ]
    }
   ],
   "source": [
    "#filter by month\n",
    "DF.show(5)"
   ]
  },
  {
   "cell_type": "code",
   "execution_count": 35,
   "id": "4163adf3",
   "metadata": {},
   "outputs": [
    {
     "name": "stdout",
     "output_type": "stream",
     "text": [
      "+--------------------+------------------+--------------------+-----+-------+------------+----------+----------+----------+----------+----+-----------+-----------+-----------+-----------+--------------+----+-------+\n",
      "|          Video Name|      Channel Name|        Channel Link|Likes|  Views|watched_time|Video_Type|watch_date|watch_time|Channel_Id|Name|Subscribers|Total_views|joined_date|joined_time|        Status|Days|  Month|\n",
      "+--------------------+------------------+--------------------+-----+-------+------------+----------+----------+----------+----------+----+-----------+-----------+-----------+-----------+--------------+----+-------+\n",
      "|Python Tutorial: ...|     Corey Schafer|UCCezIgC97PvUuR4_...|23993|1121319|          45|      Long|2024-08-07|  10:08:12|      NULL|NULL|       NULL|       NULL|       NULL|       NULL|Not Subscribed| Wed|2024-08|\n",
      "|How to download y...|Kjell-Olov Högdahl|UCpuIcds3-wG3eKqy...|   43|   3232|           3|      Long|2024-08-07|  10:08:27|      NULL|NULL|       NULL|       NULL|       NULL|       NULL|Not Subscribed| Wed|2024-08|\n",
      "|#MotorolaEdge50: ...|    Motorola India|UCo2M-E3Xd9oIQozn...|    1| 553708|           1|     Short|2024-08-06|  22:08:66|      NULL|NULL|       NULL|       NULL|       NULL|       NULL|Not Subscribed| Tue|2024-08|\n",
      "|Full Refund word ...|    codebasics_hub|UCc5Mfxuhmvr44QcS...|    0|    626|           1|     Short|2024-08-06|  22:08:31|      NULL|NULL|       NULL|       NULL|       NULL|       NULL|Not Subscribed| Tue|2024-08|\n",
      "|Get Started on Go...|      Google Cloud|UCTMRxtyHoE3LPcrl...| 5675| 467180|           1|     Short|2024-08-06|  22:08:12|      NULL|NULL|       NULL|       NULL|       NULL|       NULL|Not Subscribed| Tue|2024-08|\n",
      "+--------------------+------------------+--------------------+-----+-------+------------+----------+----------+----------+----------+----+-----------+-----------+-----------+-----------+--------------+----+-------+\n",
      "only showing top 5 rows\n",
      "\n"
     ]
    }
   ],
   "source": [
    "DF = DF.withColumn(\"Days\",date_format(col(\"watch_date\"),\"E\"))\n",
    "DF =DF.withColumn(\"Month\",date_format(col(\"watch_date\"),\"yyyy-MM\"))\n",
    "#Most watched days\n",
    "#days = DF.withColumn(\"Day_of_Week\", date_format(col(\"watch_date\"), \"E\"))\n",
    "DF.show(5)"
   ]
  },
  {
   "cell_type": "code",
   "execution_count": 36,
   "id": "792ded21",
   "metadata": {
    "scrolled": true
   },
   "outputs": [
    {
     "name": "stdout",
     "output_type": "stream",
     "text": [
      "+--------------------+-------------+--------------------+-----+-------+------------+----------+----------+----------+--------------------+-----------+-----------+-----------+-----------+-----------+--------------+----+-------+\n",
      "|          Video Name| Channel Name|        Channel Link|Likes|  Views|watched_time|Video_Type|watch_date|watch_time|          Channel_Id|       Name|Subscribers|Total_views|joined_date|joined_time|        Status|Days|  Month|\n",
      "+--------------------+-------------+--------------------+-----+-------+------------+----------+----------+----------+--------------------+-----------+-----------+-----------+-----------+-----------+--------------+----+-------+\n",
      "|Full Data Analysi...|Work The Data|UC24AtIWT-E5RUHrs...|11280| 380840|        99.0|      Long|2024-07-18|  20:07:78|                NULL|       NULL|       NULL|       NULL|       NULL|       NULL|Not Subscribed| Thu|2024-07|\n",
      "|💰 How to Make Mo...|  Madan Gowri|UCY6KjrDBN_tIRFT_...|30170| 659111|        92.0|      Long|2024-07-22|  14:07:27|UCY6KjrDBN_tIRFT_...|Madan Gowri|    7570000| 2083821382| 2013-12-05|   21:27:57|    Subscribed| Mon|2024-07|\n",
      "|IBM Data Analyst ...|    My Lesson|UCTHAIlSOqquwOKnd...|58023|1936190|       918.0|      Long|2024-07-16|  19:07:52|                NULL|       NULL|       NULL|       NULL|       NULL|       NULL|Not Subscribed| Tue|2024-07|\n",
      "|Crack Any coding ...|      TechFun|UCRljG8sLgnTchA50...|  170|   4905|           9|      Long|2024-07-21|  13:07:20|                NULL|       NULL|       NULL|       NULL|       NULL|       NULL|Not Subscribed| Sun|2024-07|\n",
      "|பைசா வட்டி சதவிகி...|Gen Infopedia|UCsXbPc2dcSsaZfjQ...|  887|  47780|           9|      Long|2024-07-23|  08:07:86|                NULL|       NULL|       NULL|       NULL|       NULL|       NULL|Not Subscribed| Tue|2024-07|\n",
      "+--------------------+-------------+--------------------+-----+-------+------------+----------+----------+----------+--------------------+-----------+-----------+-----------+-----------+-----------+--------------+----+-------+\n",
      "only showing top 5 rows\n",
      "\n"
     ]
    }
   ],
   "source": [
    "july_month =DF.filter(col(\"Month\")==\"2024-07\")\n",
    "\n",
    "july_month.orderBy(desc(\"watched_time\")).show(5)"
   ]
  },
  {
   "cell_type": "code",
   "execution_count": 83,
   "id": "fa37a40f",
   "metadata": {},
   "outputs": [
    {
     "name": "stdout",
     "output_type": "stream",
     "text": [
      "+----+-----------------+\n",
      "|Days|sum(watched_time)|\n",
      "+----+-----------------+\n",
      "| Sun|           2052.0|\n",
      "| Mon|           3072.0|\n",
      "| Thu|           1988.0|\n",
      "| Sat|            406.0|\n",
      "| Wed|           2560.0|\n",
      "| Tue|           3852.0|\n",
      "| Fri|            790.0|\n",
      "+----+-----------------+\n",
      "\n"
     ]
    }
   ],
   "source": [
    "july =july_month.groupBy(\"Days\").agg(sum(\"watched_time\"))\n",
    "july.show()\n"
   ]
  },
  {
   "cell_type": "code",
   "execution_count": 38,
   "id": "33adc9d6",
   "metadata": {},
   "outputs": [
    {
     "name": "stdout",
     "output_type": "stream",
     "text": [
      "+--------------------+------------------+--------------------+-----+-------+------------+----------+----------+----------+----------+----+-----------+-----------+-----------+-----------+--------------+----+-------+----+\n",
      "|          Video Name|      Channel Name|        Channel Link|Likes|  Views|watched_time|Video_Type|watch_date|watch_time|Channel_Id|Name|Subscribers|Total_views|joined_date|joined_time|        Status|Days|  Month|HOUR|\n",
      "+--------------------+------------------+--------------------+-----+-------+------------+----------+----------+----------+----------+----+-----------+-----------+-----------+-----------+--------------+----+-------+----+\n",
      "|Python Tutorial: ...|     Corey Schafer|UCCezIgC97PvUuR4_...|23993|1121319|          45|      Long|2024-08-07|  10:08:12|      NULL|NULL|       NULL|       NULL|       NULL|       NULL|Not Subscribed| Wed|2024-08|  10|\n",
      "|How to download y...|Kjell-Olov Högdahl|UCpuIcds3-wG3eKqy...|   43|   3232|           3|      Long|2024-08-07|  10:08:27|      NULL|NULL|       NULL|       NULL|       NULL|       NULL|Not Subscribed| Wed|2024-08|  10|\n",
      "|#MotorolaEdge50: ...|    Motorola India|UCo2M-E3Xd9oIQozn...|    1| 553708|           1|     Short|2024-08-06|  22:08:66|      NULL|NULL|       NULL|       NULL|       NULL|       NULL|Not Subscribed| Tue|2024-08|NULL|\n",
      "|Full Refund word ...|    codebasics_hub|UCc5Mfxuhmvr44QcS...|    0|    626|           1|     Short|2024-08-06|  22:08:31|      NULL|NULL|       NULL|       NULL|       NULL|       NULL|Not Subscribed| Tue|2024-08|  22|\n",
      "|Get Started on Go...|      Google Cloud|UCTMRxtyHoE3LPcrl...| 5675| 467180|           1|     Short|2024-08-06|  22:08:12|      NULL|NULL|       NULL|       NULL|       NULL|       NULL|Not Subscribed| Tue|2024-08|  22|\n",
      "+--------------------+------------------+--------------------+-----+-------+------------+----------+----------+----------+----------+----+-----------+-----------+-----------+-----------+--------------+----+-------+----+\n",
      "only showing top 5 rows\n",
      "\n"
     ]
    }
   ],
   "source": [
    "DF =DF.withColumn(\"HOUR\",date_format(col(\"watch_time\"),\"HH\"))\n",
    "DF.show(5)"
   ]
  },
  {
   "cell_type": "code",
   "execution_count": 39,
   "id": "47551e70",
   "metadata": {},
   "outputs": [
    {
     "name": "stdout",
     "output_type": "stream",
     "text": [
      "+----+-----------------+\n",
      "|HOUR|sum(watched_time)|\n",
      "+----+-----------------+\n",
      "|  07|            167.0|\n",
      "|  15|            378.0|\n",
      "|  11|            937.0|\n",
      "|  22|            734.0|\n",
      "|  16|            628.0|\n",
      "|NULL|           9460.0|\n",
      "|  18|            545.0|\n",
      "|  00|            750.0|\n",
      "|  17|            247.0|\n",
      "|  09|            754.0|\n",
      "|  05|             11.0|\n",
      "|  19|           3980.0|\n",
      "|  23|            937.0|\n",
      "|  08|           1554.0|\n",
      "|  06|             65.0|\n",
      "|  20|           1381.0|\n",
      "|  10|            855.0|\n",
      "|  12|            659.0|\n",
      "|  13|           1274.0|\n",
      "|  21|           1639.0|\n",
      "+----+-----------------+\n",
      "only showing top 20 rows\n",
      "\n"
     ]
    }
   ],
   "source": [
    "hour =DF.groupBy(\"HOUR\").agg(sum(col(\"watched_time\")))\n",
    "hour.show()"
   ]
  },
  {
   "cell_type": "code",
   "execution_count": 40,
   "id": "a762f708",
   "metadata": {},
   "outputs": [
    {
     "name": "stdout",
     "output_type": "stream",
     "text": [
      "+--------------+-------+--------------+\n",
      "|        Status|  Month|Avg Watch Time|\n",
      "+--------------+-------+--------------+\n",
      "|Not Subscribed|2024-06|        4852.0|\n",
      "|    Subscribed|2024-07|        5671.0|\n",
      "|    Subscribed|2024-06|        1013.0|\n",
      "|Not Subscribed|2024-08|        2264.0|\n",
      "|Not Subscribed|2024-05|        2827.0|\n",
      "|    Subscribed|2024-05|        1251.0|\n",
      "|    Subscribed|2024-08|         731.0|\n",
      "|Not Subscribed|2024-07|        9049.0|\n",
      "+--------------+-------+--------------+\n",
      "\n"
     ]
    }
   ],
   "source": [
    "avg_watch_time = DF.groupBy(\"Status\",\"Month\").agg(\n",
    "    sum(\"watched_time\").alias(\"Avg Watch Time\")\n",
    ")\n",
    "\n",
    "avg_watch_time.show()"
   ]
  },
  {
   "cell_type": "code",
   "execution_count": 41,
   "id": "e65f28e8",
   "metadata": {},
   "outputs": [
    {
     "name": "stdout",
     "output_type": "stream",
     "text": [
      "+----------+-------+-------+-------+-------+\n",
      "|Video_Type|2024-05|2024-06|2024-07|2024-08|\n",
      "+----------+-------+-------+-------+-------+\n",
      "|      Long| 2985.0| 5005.0|13925.0| 2762.0|\n",
      "|     Short| 1093.0|  860.0|  795.0|  233.0|\n",
      "+----------+-------+-------+-------+-------+\n",
      "\n"
     ]
    }
   ],
   "source": [
    "Type =DF.groupBy(\"Video_Type\").pivot(\"Month\").agg(sum(\"watched_time\"))\n",
    "Type.show()"
   ]
  },
  {
   "cell_type": "markdown",
   "id": "af87fd88",
   "metadata": {},
   "source": [
    "DATA VISUALIZATION"
   ]
  },
  {
   "cell_type": "code",
   "execution_count": 42,
   "id": "d5424d39",
   "metadata": {},
   "outputs": [
    {
     "name": "stdout",
     "output_type": "stream",
     "text": [
      "+-------+-----------------+\n",
      "|  Month|sum(watched_time)|\n",
      "+-------+-----------------+\n",
      "|2024-08|           2995.0|\n",
      "|2024-06|           5865.0|\n",
      "|2024-05|           4078.0|\n",
      "|2024-07|          14720.0|\n",
      "+-------+-----------------+\n",
      "\n"
     ]
    }
   ],
   "source": [
    "month.show()"
   ]
  },
  {
   "cell_type": "code",
   "execution_count": 43,
   "id": "9a26a413",
   "metadata": {},
   "outputs": [],
   "source": [
    "import pandas as pd\n",
    "import matplotlib.pyplot as plt"
   ]
  },
  {
   "cell_type": "code",
   "execution_count": 44,
   "id": "451329cc",
   "metadata": {},
   "outputs": [],
   "source": [
    "pd_month =month.toPandas()"
   ]
  },
  {
   "cell_type": "code",
   "execution_count": 45,
   "id": "cdc89950",
   "metadata": {},
   "outputs": [
    {
     "data": {
      "text/plain": [
       "Text(0.5, 1.0, 'watch time per month')"
      ]
     },
     "execution_count": 45,
     "metadata": {},
     "output_type": "execute_result"
    },
    {
     "data": {
      "image/png": "[encoded data removed]",
      "text/plain": [
       "<Figure size 432x288 with 1 Axes>"
      ]
     },
     "metadata": {
      "needs_background": "light"
     },
     "output_type": "display_data"
    }
   ],
   "source": [
    "plt.bar(pd_month[\"Month\"], pd_month[\"sum(watched_time)\"])\n",
    "plt.xlabel(\"month\")\n",
    "plt.ylabel(\"watch time\")\n",
    "plt.title(\"watch time per month\")"
   ]
  },
  {
   "cell_type": "code",
   "execution_count": 46,
   "id": "1f69dcf0",
   "metadata": {},
   "outputs": [
    {
     "name": "stdout",
     "output_type": "stream",
     "text": [
      "+----------+-------+-------+-------+-------+\n",
      "|Video_Type|2024-05|2024-06|2024-07|2024-08|\n",
      "+----------+-------+-------+-------+-------+\n",
      "|      Long| 2985.0| 5005.0|13925.0| 2762.0|\n",
      "|     Short| 1093.0|  860.0|  795.0|  233.0|\n",
      "+----------+-------+-------+-------+-------+\n",
      "\n"
     ]
    }
   ],
   "source": [
    "Type.show()"
   ]
  },
  {
   "cell_type": "code",
   "execution_count": 47,
   "id": "ce9be6ac",
   "metadata": {},
   "outputs": [],
   "source": [
    "pd_type =Type.toPandas()"
   ]
  },
  {
   "cell_type": "code",
   "execution_count": 95,
   "id": "baa94786",
   "metadata": {},
   "outputs": [
    {
     "data": {
      "image/png": "[encoded data removed]",
      "text/plain": [
       "<Figure size 720x432 with 1 Axes>"
      ]
     },
     "metadata": {
      "needs_background": "light"
     },
     "output_type": "display_data"
    }
   ],
   "source": [
    "df_pivot = df.pivot(index=\"Month\", columns=\"Status\", values=\"Avg W\")\n",
    "pd_type.plot(kind=\"bar\", figsize=(10, 6),)\n",
    "\n",
    "plt.xlabel(\"Month\")\n",
    "plt.ylabel(\"Total Watched Time (minutes)\")\n",
    "plt.title(\"Comparison of YouTube Watched Time (Short vs Long)\")\n",
    "plt.xticks(rotation=45)\n",
    "plt.legend(title=\"month\")\n",
    "plt.legend(title=\"Status\")\n",
    "plt.grid(axis=\"y\", linestyle=\"--\", alpha=0.7)\n",
    "\n",
    "\n",
    "plt.show()\n",
    "\n"
   ]
  },
  {
   "cell_type": "code",
   "execution_count": 69,
   "id": "47fd3d71",
   "metadata": {},
   "outputs": [
    {
     "name": "stdout",
     "output_type": "stream",
     "text": [
      "+----+-----------------+\n",
      "|HOUR|sum(watched_time)|\n",
      "+----+-----------------+\n",
      "|  07|            167.0|\n",
      "|  15|            378.0|\n",
      "|  11|            937.0|\n",
      "|  22|            734.0|\n",
      "|  16|            628.0|\n",
      "|NULL|           9460.0|\n",
      "|  18|            545.0|\n",
      "|  00|            750.0|\n",
      "|  17|            247.0|\n",
      "|  09|            754.0|\n",
      "|  05|             11.0|\n",
      "|  19|           3980.0|\n",
      "|  23|            937.0|\n",
      "|  08|           1554.0|\n",
      "|  06|             65.0|\n",
      "|  20|           1381.0|\n",
      "|  10|            855.0|\n",
      "|  12|            659.0|\n",
      "|  13|           1274.0|\n",
      "|  21|           1639.0|\n",
      "+----+-----------------+\n",
      "only showing top 20 rows\n",
      "\n"
     ]
    }
   ],
   "source": [
    "hour.show()"
   ]
  },
  {
   "cell_type": "code",
   "execution_count": 80,
   "id": "d78359a8",
   "metadata": {},
   "outputs": [
    {
     "data": {
      "text/plain": [
       "<BarContainer object of 20 artists>"
      ]
     },
     "execution_count": 80,
     "metadata": {},
     "output_type": "execute_result"
    },
    {
     "data": {
      "image/png": "[encoded data removed]",
      "text/plain": [
       "<Figure size 432x288 with 1 Axes>"
      ]
     },
     "metadata": {
      "needs_background": "light"
     },
     "output_type": "display_data"
    }
   ],
   "source": [
    "pd_hour =hour.toPandas()\n",
    "\n",
    "pd_hour = pd_hour.dropna(subset=[\"HOUR\"])\n",
    "plt.bar(pd_hour[\"HOUR\"],pd_hour[\"sum(watched_time)\"])\n",
    "\n",
    "\n"
   ]
  },
  {
   "cell_type": "code",
   "execution_count": 66,
   "id": "9c025831",
   "metadata": {},
   "outputs": [
    {
     "name": "stdout",
     "output_type": "stream",
     "text": [
      "+-----------+-----------------+\n",
      "|Day_of_Week|sum(watched_time)|\n",
      "+-----------+-----------------+\n",
      "|        Sun|           4866.0|\n",
      "|        Mon|           4617.0|\n",
      "|        Thu|           3362.0|\n",
      "|        Sat|           2163.0|\n",
      "|        Wed|           4285.0|\n",
      "|        Tue|           5927.0|\n",
      "|        Fri|           2438.0|\n",
      "+-----------+-----------------+\n",
      "\n"
     ]
    }
   ],
   "source": [
    "DAYS.show()"
   ]
  },
  {
   "cell_type": "code",
   "execution_count": 82,
   "id": "3ea3853b",
   "metadata": {},
   "outputs": [
    {
     "data": {
      "text/plain": [
       "Text(0.5, 1.0, 'OVER ALL WAtCH TIME')"
      ]
     },
     "execution_count": 82,
     "metadata": {},
     "output_type": "execute_result"
    },
    {
     "data": {
      "image/png": "[encoded data removed]",
      "text/plain": [
       "<Figure size 432x288 with 1 Axes>"
      ]
     },
     "metadata": {
      "needs_background": "light"
     },
     "output_type": "display_data"
    }
   ],
   "source": [
    "pd_days = DAYS.toPandas()\n",
    "plt.bar(pd_days[\"Day_of_Week\"],pd_days[\"sum(watched_time)\"])\n",
    "plt.title(\"OVER ALL WAtCH TIME\")"
   ]
  },
  {
   "cell_type": "code",
   "execution_count": 84,
   "id": "705e99ed",
   "metadata": {},
   "outputs": [
    {
     "name": "stdout",
     "output_type": "stream",
     "text": [
      "+----+-----------------+\n",
      "|Days|sum(watched_time)|\n",
      "+----+-----------------+\n",
      "| Sun|           2052.0|\n",
      "| Mon|           3072.0|\n",
      "| Thu|           1988.0|\n",
      "| Sat|            406.0|\n",
      "| Wed|           2560.0|\n",
      "| Tue|           3852.0|\n",
      "| Fri|            790.0|\n",
      "+----+-----------------+\n",
      "\n"
     ]
    }
   ],
   "source": [
    "july.show()"
   ]
  },
  {
   "cell_type": "code",
   "execution_count": 87,
   "id": "01ad5d7d",
   "metadata": {},
   "outputs": [
    {
     "data": {
      "text/plain": [
       "<BarContainer object of 7 artists>"
      ]
     },
     "execution_count": 87,
     "metadata": {},
     "output_type": "execute_result"
    },
    {
     "data": {
      "image/png": "[encoded data removed]",
      "text/plain": [
       "<Figure size 432x288 with 1 Axes>"
      ]
     },
     "metadata": {
      "needs_background": "light"
     },
     "output_type": "display_data"
    }
   ],
   "source": [
    "pd_july = july.toPandas()\n",
    "plt.bar(pd_july[\"Days\"],pd_july[\"sum(watched_time)\"])"
   ]
  },
  {
   "cell_type": "code",
   "execution_count": 93,
   "id": "08747164",
   "metadata": {},
   "outputs": [
    {
     "data": {
      "image/png": "[encoded data removed]",
      "text/plain": [
       "<Figure size 720x432 with 1 Axes>"
      ]
     },
     "metadata": {
      "needs_background": "light"
     },
     "output_type": "display_data"
    }
   ],
   "source": [
    "\n",
    "df = avg_watch_time.toPandas()\n",
    "\n",
    "df_pivot.plot(kind=\"bar\", figsize=(10, 6), color=[\"blue\", \"orange\"], alpha=0.7)\n",
    "\n",
    "plt.title(\"Average Watch Time by Subscription Status\")\n",
    "plt.xlabel(\"Month\")\n",
    "plt.ylabel(\"Average Watch Time (minutes)\")\n",
    "plt.xticks(rotation=45)\n",
    "plt.legend(title=\"Status\")\n",
    "plt.grid(axis=\"y\", linestyle=\"--\", alpha=0.7)\n",
    "\n",
    "plt.show()\n"
   ]
  },
  {
   "cell_type": "code",
   "execution_count": null,
   "id": "7c812d47",
   "metadata": {},
   "outputs": [],
   "source": []
  }
 ],
 "metadata": {
  "kernelspec": {
   "display_name": "Python 3 (ipykernel)",
   "language": "python",
   "name": "python3"
  },
  "language_info": {
   "codemirror_mode": {
    "name": "ipython",
    "version": 3
   },
   "file_extension": ".py",
   "mimetype": "text/x-python",
   "name": "python",
   "nbconvert_exporter": "python",
   "pygments_lexer": "ipython3",
   "version": "3.9.12"
  }
 },
 "nbformat": 4,
 "nbformat_minor": 5
}
